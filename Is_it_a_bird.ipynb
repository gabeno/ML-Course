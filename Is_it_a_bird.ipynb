{
  "nbformat": 4,
  "nbformat_minor": 0,
  "metadata": {
    "colab": {
      "private_outputs": true,
      "provenance": [],
      "collapsed_sections": [],
      "authorship_tag": "ABX9TyNq0b2n0hAcc48nbC60VGXi",
      "include_colab_link": true
    },
    "kernelspec": {
      "name": "python3",
      "display_name": "Python 3"
    },
    "language_info": {
      "name": "python"
    },
    "accelerator": "GPU",
    "gpuClass": "standard"
  },
  "cells": [
    {
      "cell_type": "markdown",
      "metadata": {
        "id": "view-in-github",
        "colab_type": "text"
      },
      "source": [
        "<a href=\"https://colab.research.google.com/github/gabeno/ML-Course/blob/main/Is_it_a_bird.ipynb\" target=\"_parent\"><img src=\"https://colab.research.google.com/assets/colab-badge.svg\" alt=\"Open In Colab\"/></a>"
      ]
    },
    {
      "cell_type": "markdown",
      "source": [],
      "metadata": {
        "id": "okCRMiOAkjr4"
      }
    },
    {
      "cell_type": "markdown",
      "source": [
        "## Is it a bird?\n",
        "\n",
        "A deep learning introduction example to check if a given photo is that of a bird."
      ],
      "metadata": {
        "id": "CqgwYbSksPF1"
      }
    },
    {
      "cell_type": "markdown",
      "source": [
        "#### Step 1: Download images of birds and non-birds"
      ],
      "metadata": {
        "id": "XbUM7KcCstIf"
      }
    },
    {
      "cell_type": "code",
      "execution_count": null,
      "metadata": {
        "id": "OI4YO2g3f3bc"
      },
      "outputs": [],
      "source": [
        "!pip install -Uqq fastai duckduckgo_search"
      ]
    },
    {
      "cell_type": "code",
      "source": [
        "from duckduckgo_search import ddg_images\n",
        "from fastcore.all import L\n",
        "\n",
        "def search_images(term, max_images=200):\n",
        "  return L(ddg_images(term, max_results=max_images)).itemgot(\"image\")"
      ],
      "metadata": {
        "id": "M75jguo1iL_j"
      },
      "execution_count": null,
      "outputs": []
    },
    {
      "cell_type": "code",
      "source": [
        "urls = search_images(\"bird photos\", max_images=1)\n",
        "urls"
      ],
      "metadata": {
        "id": "SZrjUSnriyP8"
      },
      "execution_count": null,
      "outputs": []
    },
    {
      "cell_type": "markdown",
      "source": [
        "download a sample and take a look at it"
      ],
      "metadata": {
        "id": "fy0yYGTmtK5H"
      }
    },
    {
      "cell_type": "code",
      "source": [
        "from fastdownload import download_url\n",
        "from fastai.vision.all import Image\n",
        "\n",
        "dest = \"bird.jpg\"\n",
        "download_url(urls[0], dest, show_progress=False)\n",
        "\n",
        "im = Image.open(dest)\n",
        "im.to_thumb(256, 256)"
      ],
      "metadata": {
        "id": "KkPsYvCXjELX"
      },
      "execution_count": null,
      "outputs": []
    },
    {
      "cell_type": "markdown",
      "source": [
        "sample a forest photo"
      ],
      "metadata": {
        "id": "qFqlSO8ntv4U"
      }
    },
    {
      "cell_type": "code",
      "source": [
        "dest = \"forest.jpg\"\n",
        "download_url(search_images(\"forest photos\", max_images=1)[0], dest, show_progress=False)\n",
        "Image.open(dest).to_thumb(256, 256)"
      ],
      "metadata": {
        "id": "ezc5ZuOctyhi"
      },
      "execution_count": null,
      "outputs": []
    },
    {
      "cell_type": "markdown",
      "source": [
        "Searches seem reasonable. Lets grab a bigger sample size."
      ],
      "metadata": {
        "id": "jtSJS6rTuxz3"
      }
    },
    {
      "cell_type": "code",
      "source": [
        "from fastai.vision.utils import download_images, resize_images, verify_images, get_image_files\n",
        "from pathlib import Path\n",
        "from time import sleep\n",
        "\n",
        "searches = \"forest\", \"bird\"\n",
        "path = Path(\"bird_or_not\")\n",
        "\n",
        "for term in searches:\n",
        "  dest = (path/term)\n",
        "  dest.mkdir(exist_ok=True, parents=True)\n",
        "  download_images(dest, urls=search_images(f\"{term} photo\"))\n",
        "  sleep(10)\n",
        "  download_images(dest, urls=search_images(f\"{term} sun photo\"))\n",
        "  sleep(10)\n",
        "  download_images(dest, urls=search_images(f\"{term} shade photo\"))\n",
        "  sleep(10)\n",
        "  resize_images(path/term, max_size=400, dest=path/term)"
      ],
      "metadata": {
        "id": "4IcuxLRPu7TH"
      },
      "execution_count": null,
      "outputs": []
    },
    {
      "cell_type": "markdown",
      "source": [
        "#### Step 2: Train our model"
      ],
      "metadata": {
        "id": "V-eXbZhQ0ayw"
      }
    },
    {
      "cell_type": "markdown",
      "source": [
        "Some photos might not download correctly which would cause our model to fail so we remove them."
      ],
      "metadata": {
        "id": "G9hlevus0lZj"
      }
    },
    {
      "cell_type": "code",
      "source": [
        "from fastai.vision.utils import verify_images, get_image_files\n",
        "\n",
        "failed = verify_images(get_image_files(path))\n",
        "failed.map(Path.unlink)\n",
        "len(failed)"
      ],
      "metadata": {
        "id": "sgdL1t_H041k"
      },
      "execution_count": null,
      "outputs": []
    },
    {
      "cell_type": "markdown",
      "source": [
        "Use `DataLoaders` to create a training ad validation set"
      ],
      "metadata": {
        "id": "pdlPjCBT3fXb"
      }
    },
    {
      "cell_type": "code",
      "source": [
        "from fastai.data.transforms import RandomSplitter, parent_label\n",
        "from fastai.data.block import DataBlock, CategoryBlock\n",
        "from fastai.vision.data import ImageBlock # @todo: harmonize this import\n",
        "from fastai.vision.augment import Resize\n",
        "\n",
        "data_loader = DataBlock(\n",
        "    # inputs to our model are images, and the outputs are categories\n",
        "    blocks=(ImageBlock, CategoryBlock),\n",
        "    # find all the inputs to our model\n",
        "    get_items=get_image_files,\n",
        "    # split the data into training and validation sets randomly,\n",
        "    # use 20% of the data for validation\n",
        "    splitter=RandomSplitter(valid_pct=0.2, seed=42),\n",
        "    # labels is the name of the parent folder for each file\n",
        "    get_y=parent_label,\n",
        "    # before training, resize each image to 192x192 pixels by squishing it (not cropping)\n",
        "    item_tfms=[Resize(192, method=\"squish\")]\n",
        ").dataloaders(path)\n",
        "\n",
        "data_loader.show_batch(max_n=6)"
      ],
      "metadata": {
        "id": "L5Yxy3-T3pTB"
      },
      "execution_count": null,
      "outputs": []
    },
    {
      "cell_type": "code",
      "source": [
        "from torchvision.models.resnet import resnet18\n",
        "from fastai.vision.learner import vision_learner\n",
        "from fastai.metrics import error_rate\n",
        "\n",
        "# what neural network to use: vision_learner\n",
        "# what architecture to use: resnet18 (with 18 layers)\n",
        "# what metric to use: error_rate (what % of images are classified incorrectly)\n",
        "learn = vision_learner(data_loader, resnet18, metrics=error_rate)\n",
        "# starting witha model someone else has trained using some other dataset and\n",
        "# adjusting weights a little bit so that the model learns to recognize your\n",
        "# particular dataset\n",
        "learn.fine_tune(5)"
      ],
      "metadata": {
        "id": "4eU_tbsVyctC"
      },
      "execution_count": null,
      "outputs": []
    },
    {
      "cell_type": "markdown",
      "source": [
        "#### Step 3: Use our model"
      ],
      "metadata": {
        "id": "yfDGFaOx0xnt"
      }
    },
    {
      "cell_type": "code",
      "source": [
        "from fastai.vision.core import PILImage\n",
        "\n",
        "\n",
        "is_bird, _, probs = learn.predict(PILImage.create(\"bird.jpg\"))\n",
        "print(f\"This is a: {is_bird}.\")\n",
        "print(f\"Probability it's a bird: {probs[0]:.4f}\")"
      ],
      "metadata": {
        "id": "H3fYxqT-05dM"
      },
      "execution_count": null,
      "outputs": []
    }
  ]
}